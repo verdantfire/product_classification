{
 "cells": [
  {
   "cell_type": "code",
   "execution_count": 1,
   "metadata": {},
   "outputs": [
    {
     "name": "stderr",
     "output_type": "stream",
     "text": [
      "Using TensorFlow backend.\n"
     ]
    }
   ],
   "source": [
    "from sklearn import model_selection, preprocessing, linear_model, naive_bayes, metrics, svm\n",
    "from sklearn.feature_extraction.text import TfidfVectorizer, CountVectorizer\n",
    "from sklearn import decomposition, ensemble\n",
    "\n",
    "import pandas as pd, xgboost as xg, numpy as np, textblob, string\n",
    "from keras.preprocessing import text, sequence\n",
    "from keras import layers, models, optimizers\n",
    "from sklearn.metrics import accuracy_score, classification_report, confusion_matrix\n",
    "from sklearn.pipeline import Pipeline\n",
    "from sklearn.model_selection import cross_val_score"
   ]
  },
  {
   "cell_type": "code",
   "execution_count": 2,
   "metadata": {},
   "outputs": [
    {
     "data": {
      "text/html": [
       "<div>\n",
       "<style scoped>\n",
       "    .dataframe tbody tr th:only-of-type {\n",
       "        vertical-align: middle;\n",
       "    }\n",
       "\n",
       "    .dataframe tbody tr th {\n",
       "        vertical-align: top;\n",
       "    }\n",
       "\n",
       "    .dataframe thead th {\n",
       "        text-align: right;\n",
       "    }\n",
       "</style>\n",
       "<table border=\"1\" class=\"dataframe\">\n",
       "  <thead>\n",
       "    <tr style=\"text-align: right;\">\n",
       "      <th></th>\n",
       "      <th>name</th>\n",
       "      <th>category</th>\n",
       "      <th>key_ingredient</th>\n",
       "    </tr>\n",
       "  </thead>\n",
       "  <tbody>\n",
       "    <tr>\n",
       "      <th>0</th>\n",
       "      <td>Mamaearth Epsom Bath Salt for Relaxation and P...</td>\n",
       "      <td>bath salt</td>\n",
       "      <td>epsom</td>\n",
       "    </tr>\n",
       "    <tr>\n",
       "      <th>1</th>\n",
       "      <td>CoCo Body Butter for Dry Skin, with Coffee &amp; C...</td>\n",
       "      <td>body butter</td>\n",
       "      <td>coffee</td>\n",
       "    </tr>\n",
       "    <tr>\n",
       "      <th>2</th>\n",
       "      <td>CoCo Yogurt, with Coffee and Cocoa for Rich Mo...</td>\n",
       "      <td>body butter</td>\n",
       "      <td>coffee</td>\n",
       "    </tr>\n",
       "    <tr>\n",
       "      <th>3</th>\n",
       "      <td>Ubtan Body Butter, For Dry Skin, With Turmeric...</td>\n",
       "      <td>body butter</td>\n",
       "      <td>tumeric</td>\n",
       "    </tr>\n",
       "    <tr>\n",
       "      <th>4</th>\n",
       "      <td>Ubtan Yogurt with Turmeric and Saffron for Dee...</td>\n",
       "      <td>body butter</td>\n",
       "      <td>tumeric</td>\n",
       "    </tr>\n",
       "  </tbody>\n",
       "</table>\n",
       "</div>"
      ],
      "text/plain": [
       "                                                name     category  \\\n",
       "0  Mamaearth Epsom Bath Salt for Relaxation and P...    bath salt   \n",
       "1  CoCo Body Butter for Dry Skin, with Coffee & C...  body butter   \n",
       "2  CoCo Yogurt, with Coffee and Cocoa for Rich Mo...  body butter   \n",
       "3  Ubtan Body Butter, For Dry Skin, With Turmeric...  body butter   \n",
       "4  Ubtan Yogurt with Turmeric and Saffron for Dee...  body butter   \n",
       "\n",
       "  key_ingredient  \n",
       "0          epsom  \n",
       "1         coffee  \n",
       "2         coffee  \n",
       "3        tumeric  \n",
       "4        tumeric  "
      ]
     },
     "execution_count": 2,
     "metadata": {},
     "output_type": "execute_result"
    }
   ],
   "source": [
    "data = pd.read_excel(\"tdata.xlsx\")\n",
    "data.head()"
   ]
  },
  {
   "cell_type": "code",
   "execution_count": 3,
   "metadata": {},
   "outputs": [],
   "source": [
    "cat_data = data[['name','category']]"
   ]
  },
  {
   "cell_type": "markdown",
   "metadata": {},
   "source": [
    "### Category Classification"
   ]
  },
  {
   "cell_type": "code",
   "execution_count": 4,
   "metadata": {},
   "outputs": [
    {
     "data": {
      "text/plain": [
       "face wash      30\n",
       "shampoo        20\n",
       "face cream     20\n",
       "face mask      19\n",
       "conditioner    12\n",
       "hair oil       11\n",
       "face serum     10\n",
       "hair mask      10\n",
       "body wash       7\n",
       "facescrub       6\n",
       "body lotion     6\n",
       "hair serum      5\n",
       "body butter     4\n",
       "face gel        3\n",
       "hand cream      3\n",
       "body scrub      1\n",
       "bath salt       1\n",
       "Name: category, dtype: int64"
      ]
     },
     "execution_count": 4,
     "metadata": {},
     "output_type": "execute_result"
    }
   ],
   "source": [
    "cat_data['category'].value_counts()"
   ]
  },
  {
   "cell_type": "code",
   "execution_count": 5,
   "metadata": {},
   "outputs": [],
   "source": [
    "# # dropping data points due to very low counts\n",
    "# cat_data = cat_data[cat_data.groupby('category').category.transform('count')>5]\n",
    "# cat_data['category'].value_counts()"
   ]
  },
  {
   "cell_type": "code",
   "execution_count": 6,
   "metadata": {},
   "outputs": [],
   "source": [
    "x_cat = cat_data['name']\n",
    "y_cat = cat_data['category']"
   ]
  },
  {
   "cell_type": "code",
   "execution_count": 7,
   "metadata": {},
   "outputs": [],
   "source": [
    "# create a count vectorizer object \n",
    "count_vect = CountVectorizer(analyzer='word', token_pattern=r'\\w{1,}')\n",
    "count_vect.fit(x_cat)\n",
    "\n",
    "# transform the training and validation data using count vectorizer object\n",
    "x_cat_count =  count_vect.transform(x_cat)"
   ]
  },
  {
   "cell_type": "markdown",
   "metadata": {},
   "source": [
    "### Test train split and train model "
   ]
  },
  {
   "cell_type": "code",
   "execution_count": 8,
   "metadata": {},
   "outputs": [],
   "source": [
    "# label encode the target variable \n",
    "encoder = preprocessing.LabelEncoder()\n",
    "y_cat_encoded = encoder.fit_transform(y_cat)"
   ]
  },
  {
   "cell_type": "code",
   "execution_count": 9,
   "metadata": {},
   "outputs": [],
   "source": [
    "# split the dataset into training and validation datasets \n",
    "train_x, test_x, train_y, test_y = model_selection.train_test_split(x_cat_count, y_cat_encoded, train_size=0.8)"
   ]
  },
  {
   "cell_type": "code",
   "execution_count": 10,
   "metadata": {},
   "outputs": [
    {
     "name": "stdout",
     "output_type": "stream",
     "text": [
      "              precision    recall  f1-score   support\n",
      "\n",
      "           0       0.00      0.00      0.00         0\n",
      "           1       0.00      0.00      0.00         0\n",
      "           2       1.00      1.00      1.00         1\n",
      "           3       0.00      0.00      0.00         1\n",
      "           4       1.00      1.00      1.00         1\n",
      "           5       0.00      0.00      0.00         2\n",
      "           6       0.75      0.75      0.75         4\n",
      "           7       1.00      1.00      1.00         1\n",
      "           8       1.00      1.00      1.00         3\n",
      "           9       1.00      1.00      1.00         2\n",
      "          10       0.80      0.67      0.73         6\n",
      "          11       0.00      0.00      0.00         0\n",
      "          12       1.00      1.00      1.00         2\n",
      "          13       0.67      0.67      0.67         3\n",
      "          14       0.00      0.00      0.00         0\n",
      "          15       1.00      0.50      0.67         2\n",
      "          16       0.60      0.50      0.55         6\n",
      "\n",
      "    accuracy                           0.68        34\n",
      "   macro avg       0.58      0.53      0.55        34\n",
      "weighted avg       0.75      0.68      0.70        34\n",
      "\n"
     ]
    },
    {
     "name": "stderr",
     "output_type": "stream",
     "text": [
      "c:\\users\\himanshu ruhela\\appdata\\local\\programs\\python\\python37\\lib\\site-packages\\sklearn\\metrics\\_classification.py:1221: UndefinedMetricWarning: Precision and F-score are ill-defined and being set to 0.0 in labels with no predicted samples. Use `zero_division` parameter to control this behavior.\n",
      "  _warn_prf(average, modifier, msg_start, len(result))\n",
      "c:\\users\\himanshu ruhela\\appdata\\local\\programs\\python\\python37\\lib\\site-packages\\sklearn\\metrics\\_classification.py:1221: UndefinedMetricWarning: Recall and F-score are ill-defined and being set to 0.0 in labels with no true samples. Use `zero_division` parameter to control this behavior.\n",
      "  _warn_prf(average, modifier, msg_start, len(result))\n"
     ]
    }
   ],
   "source": [
    "# Extereme Gradient Boosting on Count Vectors\n",
    "cat_classifier = xg.XGBClassifier()\n",
    "cat_classifier.fit(train_x.tocsc(), train_y)\n",
    "\n",
    "pred = cat_classifier.predict(test_x.tocsc())\n",
    "print(classification_report(pred,test_y)) #, target_names=sorted(np.unique(encoder.inverse_transform(test_y)))"
   ]
  },
  {
   "cell_type": "code",
   "execution_count": 11,
   "metadata": {},
   "outputs": [
    {
     "name": "stdout",
     "output_type": "stream",
     "text": [
      "              precision    recall  f1-score   support\n",
      "\n",
      "   bath salt       0.00      0.00      0.00         0\n",
      " body butter       0.75      1.00      0.86         3\n",
      " body lotion       1.00      1.00      1.00         6\n",
      "  body scrub       1.00      0.50      0.67         2\n",
      "   body wash       1.00      1.00      1.00         7\n",
      " conditioner       0.83      0.77      0.80        13\n",
      "  face cream       0.95      0.90      0.93        21\n",
      "    face gel       1.00      1.00      1.00         3\n",
      "   face mask       0.89      1.00      0.94        17\n",
      "  face serum       0.90      1.00      0.95         9\n",
      "   face wash       0.93      0.82      0.87        34\n",
      "   facescrub       0.67      1.00      0.80         4\n",
      "   hair mask       0.80      0.80      0.80        10\n",
      "    hair oil       0.73      0.89      0.80         9\n",
      "  hair serum       0.40      1.00      0.57         2\n",
      "  hand cream       1.00      0.75      0.86         4\n",
      "     shampoo       0.85      0.71      0.77        24\n",
      "\n",
      "    accuracy                           0.86       168\n",
      "   macro avg       0.81      0.83      0.80       168\n",
      "weighted avg       0.88      0.86      0.87       168\n",
      "\n"
     ]
    }
   ],
   "source": [
    "cat_pred_all = cat_classifier.predict(x_cat_count.tocsc())\n",
    "print(classification_report(cat_pred_all,y_cat_encoded,target_names=sorted(np.unique(y_cat))))"
   ]
  },
  {
   "cell_type": "code",
   "execution_count": 12,
   "metadata": {},
   "outputs": [
    {
     "name": "stderr",
     "output_type": "stream",
     "text": [
      "c:\\users\\himanshu ruhela\\appdata\\local\\programs\\python\\python37\\lib\\site-packages\\sklearn\\model_selection\\_split.py:672: UserWarning: The least populated class in y has only 1 members, which is less than n_splits=5.\n",
      "  % (min_groups, self.n_splits)), UserWarning)\n"
     ]
    },
    {
     "name": "stdout",
     "output_type": "stream",
     "text": [
      "Mean CV Accuracy :  0.7262032085561498\n",
      "[0.76470588 0.73529412 0.67647059 0.63636364 0.81818182]\n"
     ]
    }
   ],
   "source": [
    "XG_accuracies = cross_val_score(estimator = xg.XGBClassifier(), X = x_cat_count, y = y_cat_encoded, cv = 5)\n",
    "print(\"Mean CV Accuracy : \", XG_accuracies.mean())\n",
    "print(XG_accuracies)"
   ]
  },
  {
   "cell_type": "markdown",
   "metadata": {},
   "source": [
    "#### Due to the small amount of training data, the model is not very robust as seen by the varying cross validation accuracies. This can be improved using a wider range of products from other sources or by tuning and using a model trained for a similar use case."
   ]
  },
  {
   "cell_type": "code",
   "execution_count": 13,
   "metadata": {},
   "outputs": [],
   "source": [
    "cat_data['predicted_category'] = encoder.inverse_transform(cat_pred_all)"
   ]
  },
  {
   "cell_type": "markdown",
   "metadata": {},
   "source": [
    "### Ingredient Classification"
   ]
  },
  {
   "cell_type": "code",
   "execution_count": 14,
   "metadata": {},
   "outputs": [
    {
     "data": {
      "text/plain": [
       "onion                  26\n",
       "tumeric                23\n",
       "vitamin c              16\n",
       "tea tree               15\n",
       "coffee                 13\n",
       "charcoal               10\n",
       "bhringraj              10\n",
       "argan                   8\n",
       "mulberry                5\n",
       "rice                    5\n",
       "aloe                    5\n",
       "retinol                 4\n",
       "cucumber                4\n",
       "rose                    4\n",
       "apple cider vinegar     4\n",
       "honey                   2\n",
       "gotu kala               2\n",
       "neem                    2\n",
       "niacin                  2\n",
       "rosehip                 2\n",
       "carrot                  1\n",
       "ginger                  1\n",
       "water                   1\n",
       "butter                  1\n",
       "castor                  1\n",
       "epsom                   1\n",
       "Name: key_ingredient, dtype: int64"
      ]
     },
     "execution_count": 14,
     "metadata": {},
     "output_type": "execute_result"
    }
   ],
   "source": [
    "ing_data = data[['name','key_ingredient']]\n",
    "ing_data['key_ingredient'].value_counts()"
   ]
  },
  {
   "cell_type": "code",
   "execution_count": 15,
   "metadata": {},
   "outputs": [],
   "source": [
    "# # dropping data points due to very low counts\n",
    "# ing_data = ing_data[ing_data.groupby('key_ingredient').key_ingredient.transform('count')>4]\n",
    "# ing_data['key_ingredient'].value_counts()"
   ]
  },
  {
   "cell_type": "code",
   "execution_count": 16,
   "metadata": {},
   "outputs": [],
   "source": [
    "x_ing = ing_data['name']\n",
    "y_ing = ing_data['key_ingredient']"
   ]
  },
  {
   "cell_type": "code",
   "execution_count": 17,
   "metadata": {},
   "outputs": [],
   "source": [
    "# create a count vectorizer object \n",
    "count_vect = CountVectorizer(analyzer='word', token_pattern=r'\\w{1,}')\n",
    "count_vect.fit(x_ing)\n",
    "\n",
    "# transform the training and validation data using count vectorizer object\n",
    "x_ing_count = count_vect.transform(x_ing)"
   ]
  },
  {
   "cell_type": "code",
   "execution_count": 18,
   "metadata": {},
   "outputs": [],
   "source": [
    "# label encode the target variable \n",
    "encoder = preprocessing.LabelEncoder()\n",
    "y_ing_encoded = encoder.fit_transform(y_ing)\n",
    "\n",
    "# split the dataset into training and validation datasets \n",
    "train_x, test_x, train_y, test_y = model_selection.train_test_split(x_ing_count, y_ing_encoded, train_size=0.8)"
   ]
  },
  {
   "cell_type": "code",
   "execution_count": 19,
   "metadata": {},
   "outputs": [
    {
     "name": "stdout",
     "output_type": "stream",
     "text": [
      "              precision    recall  f1-score   support\n",
      "\n",
      "           0       1.00      1.00      1.00         1\n",
      "           1       1.00      1.00      1.00         1\n",
      "           3       1.00      1.00      1.00         3\n",
      "           4       0.00      0.00      0.00         1\n",
      "           7       1.00      1.00      1.00         3\n",
      "           8       0.83      1.00      0.91         5\n",
      "          11       0.00      0.00      0.00         1\n",
      "          12       0.00      0.00      0.00         1\n",
      "          14       0.00      0.00      0.00         0\n",
      "          15       0.00      0.00      0.00         0\n",
      "          16       0.00      0.00      0.00         1\n",
      "          17       1.00      1.00      1.00         4\n",
      "          18       1.00      1.00      1.00         1\n",
      "          19       1.00      1.00      1.00         1\n",
      "          20       1.00      1.00      1.00         1\n",
      "          22       1.00      1.00      1.00         4\n",
      "          23       1.00      0.80      0.89         5\n",
      "          24       0.50      1.00      0.67         1\n",
      "\n",
      "    accuracy                           0.85        34\n",
      "   macro avg       0.63      0.66      0.64        34\n",
      "weighted avg       0.84      0.85      0.84        34\n",
      "\n"
     ]
    },
    {
     "name": "stderr",
     "output_type": "stream",
     "text": [
      "c:\\users\\himanshu ruhela\\appdata\\local\\programs\\python\\python37\\lib\\site-packages\\sklearn\\metrics\\_classification.py:1221: UndefinedMetricWarning: Precision and F-score are ill-defined and being set to 0.0 in labels with no predicted samples. Use `zero_division` parameter to control this behavior.\n",
      "  _warn_prf(average, modifier, msg_start, len(result))\n",
      "c:\\users\\himanshu ruhela\\appdata\\local\\programs\\python\\python37\\lib\\site-packages\\sklearn\\metrics\\_classification.py:1221: UndefinedMetricWarning: Recall and F-score are ill-defined and being set to 0.0 in labels with no true samples. Use `zero_division` parameter to control this behavior.\n",
      "  _warn_prf(average, modifier, msg_start, len(result))\n"
     ]
    }
   ],
   "source": [
    "# Extereme Gradient Boosting on Count Vectors\n",
    "ing_classifier = xg.XGBClassifier()\n",
    "ing_classifier.fit(train_x.tocsc(), train_y)\n",
    "\n",
    "pred = ing_classifier.predict(test_x.tocsc())\n",
    "print(classification_report(pred,test_y))"
   ]
  },
  {
   "cell_type": "code",
   "execution_count": 20,
   "metadata": {},
   "outputs": [
    {
     "name": "stderr",
     "output_type": "stream",
     "text": [
      "c:\\users\\himanshu ruhela\\appdata\\local\\programs\\python\\python37\\lib\\site-packages\\sklearn\\model_selection\\_split.py:672: UserWarning: The least populated class in y has only 1 members, which is less than n_splits=5.\n",
      "  % (min_groups, self.n_splits)), UserWarning)\n"
     ]
    },
    {
     "name": "stdout",
     "output_type": "stream",
     "text": [
      "Mean CV Accuracy :  0.8035650623885917\n",
      "[0.79411765 0.79411765 0.82352941 0.87878788 0.72727273]\n"
     ]
    }
   ],
   "source": [
    "XG_accuracies = cross_val_score(estimator = xg.XGBClassifier(), X = x_ing_count, y = y_ing_encoded, cv = 5)\n",
    "print(\"Mean CV Accuracy : \", XG_accuracies.mean())\n",
    "print(XG_accuracies)"
   ]
  },
  {
   "cell_type": "code",
   "execution_count": 21,
   "metadata": {},
   "outputs": [
    {
     "name": "stdout",
     "output_type": "stream",
     "text": [
      "                     precision    recall  f1-score   support\n",
      "\n",
      "               aloe       1.00      1.00      1.00         5\n",
      "apple cider vinegar       1.00      1.00      1.00         4\n",
      "              argan       1.00      1.00      1.00         8\n",
      "          bhringraj       1.00      1.00      1.00        10\n",
      "             butter       1.00      0.50      0.67         2\n",
      "             carrot       1.00      1.00      1.00         1\n",
      "             castor       1.00      1.00      1.00         1\n",
      "           charcoal       1.00      1.00      1.00        10\n",
      "             coffee       0.92      1.00      0.96        12\n",
      "           cucumber       1.00      1.00      1.00         4\n",
      "              epsom       1.00      1.00      1.00         1\n",
      "             ginger       1.00      0.50      0.67         2\n",
      "          gotu kala       1.00      0.67      0.80         3\n",
      "              honey       1.00      1.00      1.00         2\n",
      "           mulberry       0.80      1.00      0.89         4\n",
      "               neem       0.00      0.00      0.00         0\n",
      "             niacin       0.50      0.50      0.50         2\n",
      "              onion       1.00      1.00      1.00        26\n",
      "            retinol       1.00      1.00      1.00         4\n",
      "               rice       1.00      1.00      1.00         5\n",
      "               rose       1.00      1.00      1.00         4\n",
      "            rosehip       1.00      1.00      1.00         2\n",
      "           tea tree       1.00      0.94      0.97        16\n",
      "            tumeric       1.00      0.96      0.98        24\n",
      "          vitamin c       0.94      1.00      0.97        15\n",
      "              water       1.00      1.00      1.00         1\n",
      "\n",
      "           accuracy                           0.96       168\n",
      "          macro avg       0.93      0.89      0.90       168\n",
      "       weighted avg       0.98      0.96      0.97       168\n",
      "\n"
     ]
    },
    {
     "name": "stderr",
     "output_type": "stream",
     "text": [
      "c:\\users\\himanshu ruhela\\appdata\\local\\programs\\python\\python37\\lib\\site-packages\\sklearn\\metrics\\_classification.py:1221: UndefinedMetricWarning: Recall and F-score are ill-defined and being set to 0.0 in labels with no true samples. Use `zero_division` parameter to control this behavior.\n",
      "  _warn_prf(average, modifier, msg_start, len(result))\n"
     ]
    }
   ],
   "source": [
    "ing_pred_all = ing_classifier.predict(x_ing_count.tocsc())\n",
    "print(classification_report(ing_pred_all,y_ing_encoded,target_names=sorted(np.unique(y_ing))))"
   ]
  },
  {
   "cell_type": "code",
   "execution_count": 22,
   "metadata": {},
   "outputs": [],
   "source": [
    "ing_data['predicted_ingredient'] = encoder.inverse_transform(ing_pred_all)\n",
    "\n",
    "with pd.ExcelWriter('Prediction Comparison.xlsx') as writer:  \n",
    "    cat_data.to_excel(writer, sheet_name='Category',index=False)\n",
    "    ing_data.to_excel(writer, sheet_name='Key Ingredient',index=False)"
   ]
  },
  {
   "cell_type": "code",
   "execution_count": null,
   "metadata": {},
   "outputs": [],
   "source": []
  },
  {
   "cell_type": "code",
   "execution_count": null,
   "metadata": {},
   "outputs": [],
   "source": []
  }
 ],
 "metadata": {
  "kernelspec": {
   "display_name": "Python 3",
   "language": "python",
   "name": "python3"
  },
  "language_info": {
   "codemirror_mode": {
    "name": "ipython",
    "version": 3
   },
   "file_extension": ".py",
   "mimetype": "text/x-python",
   "name": "python",
   "nbconvert_exporter": "python",
   "pygments_lexer": "ipython3",
   "version": "3.7.7"
  }
 },
 "nbformat": 4,
 "nbformat_minor": 4
}
